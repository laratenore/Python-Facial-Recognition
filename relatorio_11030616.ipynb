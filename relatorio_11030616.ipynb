{
 "cells": [
  {
   "cell_type": "markdown",
   "metadata": {},
   "source": [
    "#### Lara Tenore Ferreira   |   RA: 11030616\n",
    "\n",
    "## Projeto de Processamento Digital de Imagens\n",
    "\n",
    "## Reconhecimento facial e contagem de pessoas em uma imagem"
   ]
  },
  {
   "cell_type": "markdown",
   "metadata": {},
   "source": [
    "Este projeto tem como principal objetivo desenvolver um algoritmo em Python para reconhecimento facial de pessoas de uma imagem, atribuindo respectivos nomes, bem como contagem de pessoas em um grupo. Uma aplicação deste projeto é o reconhecimento do rosto de alunos presentes em uma sala de aula, evitando a necessidade do uso de lista de chamadas ou de chamada oral, métodos que podem levar a fraudes."
   ]
  },
  {
   "cell_type": "markdown",
   "metadata": {},
   "source": [
    "### Plano de trabalho\n",
    "\n",
    "O plano de trabalho pode ser dividido em 4 etapas:\n",
    "\n",
    "1. Coleta das imagens para testes e treinamento do modelo;\n",
    "2. Desenvolvimento do algoritmo e treinamento;\n",
    "3. Testes exaustivos com imagens de diferentes fontes, pessoas e objetos (casos de erros);\n",
    "4. Escrita do relatório final."
   ]
  },
  {
   "cell_type": "markdown",
   "metadata": {},
   "source": [
    "### Imagens utilizadas no projeto\n",
    "\n",
    "As imagens que serão utilizadas para reconhecimento facial são da base de dados da Universidade de Massachusetts (http://vis-www.cs.umass.edu/lfw/index.html) chamada de Labeled Faces in the Wild (LFW), que é um conjunto de imagens de personalidades públicas identificadas pelo nome. Construido por pesquisadores da universidade, este conjunto de dados foi originalmente criado para estudar o reconhecimento facial sem restrições. Totaliza mais de 13.000 imagens de mais de 5.700 pessoas. O conjunto de dados também inclui metadados úteis no formato CSV.\n",
    "\n",
    "Para os propósitos deste projeto, o modelo foi treinado com base em uma versão reduzida da base original, com 26 personalidades, totalizando 412 imagens. Assim, o modelo foi obtido a partir de uma média de 16 imagens por pessoa."
   ]
  },
  {
   "cell_type": "markdown",
   "metadata": {},
   "source": [
    "### Reconhecimento Facial\n",
    "\n",
    "O reconhecimento facial é uma categoria de software biométrico que mapeia matematicamente os recursos faciais de um indivíduo e armazena os dados como uma impressão facial. Softwares de reconhecimento facial identificam pontos, chamados de \"pontos nodais\", na imagem de um rosto humano. Estes pontos são variáveis para medir características de uma face. Os dados são armazenados em vetores, chamados de vetores de características, para então serem comparados com outras imagens com o objetivo de reconhecer os indivíduos nelas presentes.\n",
    "\n",
    "Apesar da grande relevência atual destes algoritmos, ainda existem limitações para o reconhecimento facial. Por exemplo, caso o indivíduo esteja com o rosto parcialmente coberto ou com o rosto virado para o lado, existe a possibilidade de o algoritmo não reconhecê-lo corretamente. \n",
    "\n",
    "Neste trabalho, o modelo utilizado para reconhecimento facial, chamado de \"cascade\", foi o \"haarcascade_frontalface_alt2.xml\" e pode ser encontrado dentro da biblioteca OpenCV, bem como outros modelos para o mesmo objetivo."
   ]
  },
  {
   "cell_type": "markdown",
   "metadata": {},
   "source": [
    "### Vetor de características\n",
    "\n",
    "Algoritmos de aprendizado de máquina são construídos para receber um conjunto de dados e aprender a partir deste conjunto a partir de padrões encontrados. Se estamos construindo um algoritmo para reconhecimento do nome da pessoa  a partir de uma imagem de seu rosto, podemos procurar por padrões como:\n",
    "\n",
    "* Comprimento e largura do rosto;\n",
    "* Tom da pele;\n",
    "* Tamanho de outras partes do rosto, como lábios, nariz, etc.\n",
    "\n",
    "Ainda assim, algoritmos de aprendizado de máquina reconhecem apenas números associados às imagens, ou seja, é desejável que esses padrões reconhecidos sejam interpretados através de números pelo algoritmo. A representação numérica de um rosto é denominada **vetor de características** (*feature vector*). Portanto, um exemplo de padrões armazenados em um vetor de características seria:\n",
    "\n",
    "\n",
    "| Altura da face (cm) | Largura da face (cm) | Cor média da face (RGB) | Largura dos lábios (cm) | Altura do nariz (cm) |\n",
    "|:-------------------:|:--------------------:|:-----------------------:|:-----------------------:|:--------------------:|\n",
    "|         23.1        |         15.8         |      (202, 121, 74)     |           5.2           |          4.4         |\n",
    "\n",
    "\n",
    "Portanto, considerando os padrões acima, obteríamos o vetor V = (23.1, 15.8, 202, 121, 74, 5.2, 4.4). Vale ressaltar que este vetor pode armazenas inumeros valores representando padrões da imagem, porém reduzimos a explicação para estas 5 características para fins didáticos.\n",
    "\n",
    "Ao transferir todas as imagens para vetores de características, o problema de reconhecimento facial fica muito mais simples pois basta o algoritmo identificar vetores iguais ou com indice de similaridade muito próximos para indicar diferentes imagens de uma mesma pessoa. "
   ]
  },
  {
   "cell_type": "markdown",
   "metadata": {},
   "source": [
    "### Treinamento de modelos\n",
    "\n",
    "Neste trabalho, o modelo construído e treinado foi feito somente com a biblioteca OpenCV, sendo um modelo pouco complexo porém rápido. Os passos deste algorítmo são:\n",
    "\n",
    "* Definição das variáveis com diretórios das imagens e do cascade utilizado;\n",
    "* Chamada da função \"imagens_rotulos\" que identifica os arquivos no diretório indicado e armazena as imagens dos rostos no vetor images e os rotulos obtidos a partir do nome das imagens no vetor labels;\n",
    "* Criação do arquivo contendo o dicinário no formato \"rotulos : id\";\n",
    "* Treinamento do modelo com base nos vetores gerados na função \"imagens_rotulos\"."
   ]
  },
  {
   "cell_type": "markdown",
   "metadata": {},
   "source": [
    "### Roteiro para testes\n",
    "\n",
    "Para testar o sistema completo, a execução deve ser feita na seguinte ordem:\n",
    "\n",
    "1. No diretório face_recognition, executar o algoritmo em trainer.ipynb. Ele gerará os arquivos face-labels.txt e trainer.yml. Faz-se necessário que as bibliotecas importadas sejam instaladas previamente.\n",
    "2. No diretório principal, abrir o arquivo faces.ipynb e executar o algortimo em \"Dependências iniciais\" para carregar as bibliotecas e o modelo.\n",
    "3. Para reconhecimento facial em imagens, executar o algoritmo em \"Reconhecimento de Imagens\".\n",
    "4. Para reconhecimento facil em vídeos, executar o algoritmo em \"Reconhecimento com Vídeo\".\n",
    "5. Para contagem do número de pessoas em uma imagem, executar o algoritmo em \"Contagem do número de pessoas em uma imagem\"."
   ]
  },
  {
   "cell_type": "markdown",
   "metadata": {},
   "source": [
    "### Resultados e conclusões\n",
    "\n",
    "A partir do algoritmo desenvolvido, foi possível obter sucesso em grande parte dos testes. O resultado obtido não pode ser considerado eficiente para aplicações reais, mas representa uma base consistente para estudos futuros. \n",
    "\n",
    "O algoritmo de treinamento (em trainer.ipynb) apresentou tempo médio de execução de 77 segundos para o reconhecimento de 488 faces e 26 personalidades. O tempo médio de execução da leitura do modelo e da criação do dicionário de rótulos foi de 1.92 segundos. Para reconhecimento facial de 6 imagens, o tempo médio de execução foi de 2.58 segundos. Por fim, a contagem do número de pessoas em 4 imagens com 30 rostos identificados foi de 2.76 segundos.\n",
    "\n",
    "O reconhecimento facial a partir de imagens apresenta resultados positivos porém também apresenta alguns erros de identificação com taxas de confiança alta, demonstrando que o modelo ainda não pode ser considerado bom. Os erros obtidos podem se dar por quatro fatores principais:\n",
    "\n",
    "* **Inconsistência no banco de imagens:** algumas personalidades apresentam mais imagens do que outras no banco de treinamento do modelo. Dessa forma, o modelo pode tender a identificar pessoas que ele tem mais conhecimento (mais imagens).\n",
    "* **Data das imagens:** o banco de imagens foi construido em 2007. Dessa forma, testes realizados com imagens atuais das personalidades não apresentam sucesso.\n",
    "* **Cascade utilizada no reconhecimento facial:** o cascade utilizado neste projeto para reconhecimento dos rostos foi \"haarcascade_frontalface_alt2\". Para o propósito deste projeto, o uso deste modelo apresentou resultados positivos, porém, em aplicações reais é possível que outros modelos apresentem resultados mais eficiêntes.\n",
    "* **Ferramenta utilizada para o treinamento:** o treinamento do modelo yml foi feito apenas com a biblioteca OpenCV pela abordagem simplificada, porém, acredita-se que o treinamento com outras ferramentas como Tensorflow ou Keras apresentem resultados melhores.\n",
    "\n",
    "O reconhecimento facial a partir de vídeos, por outro lado, apresenta bons resutados para reconhecimento facial mas não mostra-se eficiente para identificação dos rostos com seus respectivos rótulos. Além dos motivos apresentados previamente, o reconhecimento em vídeos possui um agravante da qualidade da imagem que esta sendo processada e da instabilidade da imagem capturada."
   ]
  },
  {
   "cell_type": "code",
   "execution_count": null,
   "metadata": {},
   "outputs": [],
   "source": []
  }
 ],
 "metadata": {
  "kernelspec": {
   "display_name": "Python 3",
   "language": "python",
   "name": "python3"
  },
  "language_info": {
   "codemirror_mode": {
    "name": "ipython",
    "version": 3
   },
   "file_extension": ".py",
   "mimetype": "text/x-python",
   "name": "python",
   "nbconvert_exporter": "python",
   "pygments_lexer": "ipython3",
   "version": "3.7.3"
  }
 },
 "nbformat": 4,
 "nbformat_minor": 2
}
