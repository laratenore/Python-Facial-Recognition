{
 "cells": [
  {
   "cell_type": "code",
   "execution_count": null,
   "metadata": {},
   "outputs": [],
   "source": [
    "if False:\n",
    "    !pip install pillow\n",
    "    !pip install opencv-contrib-python --upgrade\n",
    "    !pip install opencv-contrib-python --user"
   ]
  },
  {
   "cell_type": "code",
   "execution_count": 7,
   "metadata": {},
   "outputs": [
    {
     "name": "stdout",
     "output_type": "stream",
     "text": [
      "Iniciando processo...\n",
      "Iniciando reconhecimento de imagens e labels...\n",
      "Iniciando treinamento do modelo...\n",
      ">> Número de labels identificadas:  26\n",
      ">> Número de imagens analisadas:  488\n",
      ">> Tempo de execução total: --- 77.00989699363708 seconds ---\n"
     ]
    }
   ],
   "source": [
    "import cv2\n",
    "import os\n",
    "import numpy as np\n",
    "from PIL import Image \n",
    "import pickle\n",
    "import time \n",
    "\n",
    "def imagens_rotulos(datapath):\n",
    "    print(\"Iniciando reconhecimento de imagens e labels...\")\n",
    "    label_ids = {}\n",
    "    images = []\n",
    "    labels = []\n",
    "    current_id = 0\n",
    "    for root, dirs, files in os.walk(dataPath):\n",
    "        for file in files:\n",
    "            if file.endswith(\".jpg\"):\n",
    "                image_path = os.path.join(root, file)\n",
    "                image_pil = Image.open(image_path).convert('L')\n",
    "                size = (550, 550)\n",
    "                image = image_pil.resize(size, Image.ANTIALIAS)\n",
    "                image = np.array(image, 'uint8')\n",
    "                label = os.path.basename(root).replace(\" \", \"-\").lower()\n",
    "                if not label in label_ids:\n",
    "                    label_ids[label] = current_id\n",
    "                    current_id += 1\n",
    "                id_ = label_ids[label]\n",
    "                faces = faceCascade.detectMultiScale(image)\n",
    "                for (x, y, w, h) in faces:\n",
    "                    images.append(image[y: y + h, x: x + w])\n",
    "                    labels.append(id_)\n",
    "\n",
    "    return images, labels, label_ids\n",
    " \n",
    "print(\"Iniciando processo...\")\n",
    "start_time = time.time()\n",
    "\n",
    "path = os.getcwd()\n",
    "recognizer = cv2.face.LBPHFaceRecognizer_create()\n",
    "cascadePath = path+r\"/../cascades/data/haarcascade_frontalface_alt2.xml\"\n",
    "faceCascade = cv2.CascadeClassifier(cascadePath);\n",
    "dataPath = path+r'/../db/Factivel'\n",
    "\n",
    "images, labels, label_ids = imagens_rotulos(dataPath)\n",
    "\n",
    "with open(\"face-labels.txt\",\"w+\") as f:\n",
    "    for label in label_ids.keys():\n",
    "        f.write(\"%s : %s \\n\" % (str(label), str(label_ids[label])))\n",
    "    f.close()\n",
    "    \n",
    "print(\"Iniciando treinamento do modelo...\")\n",
    "recognizer.train(images, np.array(labels))\n",
    "recognizer.save(path+r'/trainer.yml')\n",
    "cv2.destroyAllWindows()\n",
    "\n",
    "print(\">> Número de labels identificadas: \", len(label_ids))\n",
    "\n",
    "print(\">> Número de imagens analisadas: \", len(images))\n",
    "\n",
    "print(\">> Tempo de execução total: --- %s seconds ---\" % (time.time() - start_time))\n",
    "\n"
   ]
  },
  {
   "cell_type": "code",
   "execution_count": null,
   "metadata": {},
   "outputs": [],
   "source": []
  }
 ],
 "metadata": {
  "kernelspec": {
   "display_name": "Python 3",
   "language": "python",
   "name": "python3"
  },
  "language_info": {
   "codemirror_mode": {
    "name": "ipython",
    "version": 3
   },
   "file_extension": ".py",
   "mimetype": "text/x-python",
   "name": "python",
   "nbconvert_exporter": "python",
   "pygments_lexer": "ipython3",
   "version": "3.7.3"
  }
 },
 "nbformat": 4,
 "nbformat_minor": 2
}
