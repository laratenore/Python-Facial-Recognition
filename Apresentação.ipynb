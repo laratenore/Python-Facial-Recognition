{
 "cells": [
  {
   "cell_type": "markdown",
   "metadata": {
    "slideshow": {
     "slide_type": "slide"
    }
   },
   "source": [
    "# Reconhecimento Facial - OpenCV\n",
    "\n",
    "### Lara Tenore Ferreira"
   ]
  },
  {
   "cell_type": "markdown",
   "metadata": {
    "slideshow": {
     "slide_type": "slide"
    }
   },
   "source": [
    "## Problema e Objetivos\n",
    "\n",
    "* Desenvolver um algoritmo em Python para reconhecimento facial de pessoas de uma imagem\n",
    "\n",
    "\n",
    "* Identificar/nomear os rostos em uma imagem\n",
    "\n",
    "\n",
    "* Contar o número de pessoas em uma imagem\n",
    "\n",
    "\n"
   ]
  },
  {
   "cell_type": "markdown",
   "metadata": {
    "slideshow": {
     "slide_type": "slide"
    }
   },
   "source": [
    "## Imagens\n",
    "\n",
    "* Base de dados da Universidade de Massachusetts chamada de **Labeled Faces in the Wild (LFW)** (http://vis-www.cs.umass.edu/lfw/index.html)\n",
    "\n",
    "\n",
    "* Mais de 13.000 imagens de mais de 5.700 pessoas. No projeto usamos **26 personalidades**, totalizando **412 imagens**. \n",
    "\n",
    "\n",
    "* Média de 16 imagens por personalidade\n",
    "\n",
    "\n",
    "* Imagens de **2007**\n",
    "\n"
   ]
  },
  {
   "cell_type": "markdown",
   "metadata": {
    "slideshow": {
     "slide_type": "slide"
    }
   },
   "source": [
    "## Reconhecimento Facial \n",
    "\n",
    "* Mapeamento matemático dos recursos faciais de um indivíduo e armazenamento dos dados como uma impressão facial\n",
    "\n",
    "\n",
    "* Softwares de reconhecimento facial identificam pontos, chamados de **pontos nodais**\n",
    "\n",
    "\n",
    "* Armazenamento das características em um vetor chamado de **vetor de características**\n",
    "\n",
    "\n",
    "* Limitações: caso o indivíduo esteja com o rosto parcialmente coberto ou com o rosto virado para o lado, existe a possibilidade de o algoritmo não reconhecê-lo corretamente\n"
   ]
  },
  {
   "cell_type": "markdown",
   "metadata": {
    "slideshow": {
     "slide_type": "slide"
    }
   },
   "source": [
    "## Algoritmos"
   ]
  },
  {
   "cell_type": "markdown",
   "metadata": {
    "slideshow": {
     "slide_type": "subslide"
    }
   },
   "source": [
    "\n",
    "## Biblitecas:\n",
    " \n",
    "* OpenCV (contrib)\n",
    "* Numpy\n",
    "* Matplotlib\n",
    "* Pillow (PIL)\n",
    "\n",
    "## Ferramentas:\n",
    "\n",
    "* Cascade para reconhecimento facial: haarcascade_frontalface_alt2 (OpenCV / data) \n",
    "* cv2.face.LBPHFaceRecognizer_create: leitura e identificação (predict)\n",
    "\n",
    "\n"
   ]
  },
  {
   "cell_type": "markdown",
   "metadata": {
    "slideshow": {
     "slide_type": "subslide"
    }
   },
   "source": [
    "## Criação do modelo de reconhecimento\n",
    "\n",
    "* Definição das **variáveis** com diretórios das imagens e do **cascade** utilizado\n",
    "\n",
    "\n",
    "* Chamada da função **imagens_rotulos** que identifica os arquivos no diretório indicado e armazena as imagens dos rostos no **vetor images** e os rotulos obtidos a partir do nome das imagens no **vetor labels**\n",
    "\n",
    "\n",
    "* Criação do arquivo contendo o **dicionário** no formato \"rotulos : id\"\n",
    "\n",
    "\n",
    "\n",
    "* Treinamento do modelo com base nos vetores gerados na função \"imagens_rotulos\""
   ]
  },
  {
   "cell_type": "markdown",
   "metadata": {
    "slideshow": {
     "slide_type": "subslide"
    }
   },
   "source": [
    "## Reconhecimento e identificação em imagens\n",
    "\n",
    "* Leitura da imagem em grayscale\n",
    "\n",
    "\n",
    "\n",
    "* Reconhecimento do rosto com cascade\n",
    "\n",
    "\n",
    "\n",
    "* Reconhecimento do id pelo modelo treinado\n",
    "\n",
    "\n",
    "\n",
    "* Marcação na imagem de acordo com a confiança do reconhecimento"
   ]
  },
  {
   "cell_type": "markdown",
   "metadata": {
    "slideshow": {
     "slide_type": "subslide"
    }
   },
   "source": [
    "## Reconhecimento e identificação em vídeo\n",
    "\n",
    "\n",
    "\n",
    "* Mesmo processo do reconhecimento com imagens mas aplicado em cada frame"
   ]
  },
  {
   "cell_type": "markdown",
   "metadata": {
    "slideshow": {
     "slide_type": "subslide"
    }
   },
   "source": [
    "## Contagem do número de pessoas em uma imagem\n",
    "\n",
    "* Leitura da imagem em grayscale\n",
    "\n",
    "\n",
    "* Identificação dos rostos com um fator de escala baixo (rostos próximos)"
   ]
  },
  {
   "cell_type": "markdown",
   "metadata": {
    "slideshow": {
     "slide_type": "slide"
    }
   },
   "source": [
    "## Resultados e conclusões\n"
   ]
  },
  {
   "cell_type": "markdown",
   "metadata": {
    "slideshow": {
     "slide_type": "subslide"
    }
   },
   "source": [
    "|                                           | Número de imagens analisdas | Tempo médio |\n",
    "|:-----------------------------------------:|:---------------------------:|:-----------:|\n",
    "|                Treinamento                |             412             |     77 s    |\n",
    "| Leitura do modelo e criação do dicionário |              -              |    1.92 s   |\n",
    "|         Reconhecimento de Imagens         |              6              |    2.58 s   |\n",
    "|            Contagem de pessoas            |              4              |    2.76 s   |"
   ]
  },
  {
   "cell_type": "markdown",
   "metadata": {
    "slideshow": {
     "slide_type": "subslide"
    }
   },
   "source": [
    "* O resultado obtido não pode ser considerado eficiente para aplicações reais, mas representa uma base consistente para estudos futuros\n",
    "\n",
    "\n",
    "\n",
    "* Erros de identificação com taxas de confiança alta, demonstrando que o modelo ainda não pode ser considerado bom. \n",
    " \n",
    " \n",
    " \n",
    "* Inconsistência no banco de imagens\n",
    "\n",
    "\n",
    "\n",
    "* Data das imagens\n",
    "\n",
    "\n",
    "\n",
    "* Cascade utilizada no reconhecimento facial\n",
    "\n",
    "\n",
    "\n",
    "* Ferramenta utilizada para o treinamento\n",
    "\n",
    "\n",
    "\n",
    "* O reconhecimento de vídeos: eficiente na detecção de rostos, mas pouco eficiente para identificação e reconhecimento. Além dos motivos apresentados previamente, o reconhecimento em vídeos possui um agravante da **qualidade da imagem** que esta sendo processada e da **instabilidade** da imagem capturada."
   ]
  },
  {
   "cell_type": "markdown",
   "metadata": {
    "slideshow": {
     "slide_type": "slide"
    }
   },
   "source": [
    "## Obrigada!"
   ]
  }
 ],
 "metadata": {
  "celltoolbar": "Slideshow",
  "kernelspec": {
   "display_name": "Python 3",
   "language": "python",
   "name": "python3"
  },
  "language_info": {
   "codemirror_mode": {
    "name": "ipython",
    "version": 3
   },
   "file_extension": ".py",
   "mimetype": "text/x-python",
   "name": "python",
   "nbconvert_exporter": "python",
   "pygments_lexer": "ipython3",
   "version": "3.7.3"
  }
 },
 "nbformat": 4,
 "nbformat_minor": 2
}
